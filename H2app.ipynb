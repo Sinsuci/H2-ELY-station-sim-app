{
 "cells": [
  {
   "cell_type": "markdown",
   "metadata": {},
   "source": [
    "# Saucisse"
   ]
  },
  {
   "cell_type": "code",
   "execution_count": null,
   "metadata": {},
   "outputs": [],
   "source": [
    "# Total system\n",
    "\n",
    "\n",
    "# H2 production\n",
    "\n",
    "var_ely_consigne = 1        # 0-1\n",
    "var_ely_p_kw = 1300\n",
    "var_ely_v_cell = 2.7\n",
    "time_total_sim_sec = 3600\n",
    "choice_h2_prod_fixe = False\n",
    "\n",
    "\n",
    "if choice_h2_prod_fixe == True :                        \n",
    "    var_ely_qh2_kgh = int(input(\"Débit ELY kgH2/h : \"))\n",
    "    var_ely_pressure_bar = int(input(\"Pressure ELY H2 : \"))\n",
    "elif choice_h2_prod_fixe == False :\n",
    "    var_ely_qh2_kgh = var_ely_p_kw*pow(10,3) / (2*96485*var_ely_v_cell) * 2.02*3.6    # 2.02 g/mol       0.0899 kg/Nm3       3.6 = s to h & g to kg\n",
    "    var_ely_pressure_bar = 30\n",
    "\n",
    "var_ely_qh2_kgh = var_ely_qh2_kgh * var_ely_consigne * time_total_sim_sec/3600\n",
    "var_ely_e_kwh_total = var_ely_p_kw*pow(10,3) * var_ely_consigne * time_total_sim_sec/3600 / 1000\n",
    "\n",
    "\n",
    "print(\"H2 prod (kg/h)           : \", var_ely_qh2_kgh)\n",
    "print(\"ELY Energie (kwh)        : \", var_ely_e_kwh_total)\n",
    "print(\"H2 ELY pressure (Bar)    : \", var_ely_pressure_bar)\n",
    "\n"
   ]
  },
  {
   "cell_type": "code",
   "execution_count": null,
   "metadata": {},
   "outputs": [],
   "source": [
    "# H2 production\n",
    "\n",
    "var_ely_consigne = 1        # 0-1\n",
    "var_ely_p_kw = 1300\n",
    "var_ely_v_cell = 2.7\n",
    "time_total_sim_sec = 3600\n",
    "choice_h2_prod_fixe = True\n",
    "\n",
    "\n",
    "if choice_h2_prod_fixe == True :                        \n",
    "    var_ely_qh2_kgh = int(input(\"Débit ELY kgH2/h : \"))\n",
    "    var_ely_pressure_bar = int(input(\"Pressure ELY H2 : \"))\n",
    "elif choice_h2_prod_fixe == False :\n",
    "    var_ely_qh2_kgh = var_ely_p_kw*pow(10,3) / (2*96485*var_ely_v_cell) * 2.02*3.6    # 2.02 g/mol       0.0899 kg/Nm3       3.6 = s to h & g to kg\n",
    "    var_ely_pressure_bar = 30\n",
    "\n",
    "var_ely_qh2_kgh = var_ely_qh2_kgh * var_ely_consigne * time_total_sim_sec/3600\n",
    "var_ely_e_kwh_total = var_ely_p_kw*pow(10,3) * var_ely_consigne * time_total_sim_sec/3600 / 1000\n",
    "\n",
    "\n",
    "print(\"H2 prod (kg/h)           : \", var_ely_qh2_kgh)\n",
    "print(\"ELY Energie (kwh)        : \", var_ely_e_kwh_total)\n",
    "print(\"H2 ELY pressure (Bar)    : \", var_ely_pressure_bar)"
   ]
  },
  {
   "cell_type": "code",
   "execution_count": 24,
   "metadata": {},
   "outputs": [
    {
     "name": "stdout",
     "output_type": "stream",
     "text": [
      "end\n",
      "Final masse (kg) :  48.60000000000641\n",
      "Final temp (K) :  293.97899973781495\n",
      "Final pressure (Bar) :  29.99027264533524\n"
     ]
    }
   ],
   "source": [
    "# Stockage H2\n",
    "import CoolProp\n",
    "\n",
    "\n",
    "var_stk_masse_kg = 0        # init\n",
    "var_stk_in_q_kgh = 18\n",
    "valve_opened = False\n",
    "\n",
    "time_total_sim_sec = 3600*2.7\n",
    "time_tick_sim_sec = 0\n",
    "\n",
    "var_stk_temp_kelv = 273.14+20   # Température ambiante\n",
    "var_stk_p_bar = 1               # 1 atm\n",
    "var_stk_v_m3 = 20\n",
    "\n",
    "var_stk_roh_kgm3 = CoolProp.CoolProp.PropsSI('D','T',var_stk_temp_kelv,'P',var_stk_p_bar*pow(10,5),'hydrogen')\n",
    "var_stk_u_eint = CoolProp.CoolProp.PropsSI('U','T',var_stk_temp_kelv,'P',var_stk_p_bar*pow(10,5),'hydrogen')\n",
    "var_stk_h_ent = CoolProp.CoolProp.PropsSI('H','T',var_stk_temp_kelv,'P',var_stk_p_bar*pow(10,5),'hydrogen')\n",
    "var_stk_y_dan = var_stk_masse_kg*var_stk_u_eint\n",
    "var_stk_h_ent = -var_stk_u_eint\n",
    "\n",
    "# Main simulation\n",
    "while time_tick_sim_sec < time_total_sim_sec :\n",
    "    time_tick_sim_sec = time_tick_sim_sec + 1\n",
    "\n",
    "    if valve_opened == False :\n",
    "        var_stk_out_q_kgh = 0\n",
    "    elif valve_opened == True :\n",
    "        var_stk_out_q_kgh = 10       # Faire varier en fct de la masse\n",
    "\n",
    "    var_stk_masse_kg = var_stk_masse_kg + var_stk_in_q_kgh/3600 - var_stk_out_q_kgh/3600    # Débit to seconde\n",
    "    var_stk_y_dan = var_stk_y_dan + var_stk_out_q_kgh/3600*var_stk_h_ent - var_stk_in_q_kgh/3600*var_stk_h_ent\n",
    "    var_stk_u_eint = var_stk_y_dan / var_stk_masse_kg\n",
    "    var_stk_roh_kgm3 = var_stk_masse_kg / var_stk_v_m3\n",
    "\n",
    "    var_stk_p_bar = CoolProp.CoolProp.PropsSI('P','T',var_stk_temp_kelv,'D',var_stk_roh_kgm3,'hydrogen')/pow(10,5)\n",
    "    var_stk_h_ent = CoolProp.CoolProp.PropsSI('H','P',var_stk_p_bar*pow(10,5),'T',var_stk_temp_kelv,'hydrogen')\n",
    "\n",
    "    var_stk_temp_kelv = CoolProp.CoolProp.PropsSI('T','U',var_stk_u_eint,'D',var_stk_roh_kgm3,'hydrogen')\n",
    "\n",
    "    var_stk_h_ent = -var_stk_u_eint\n",
    "\n",
    "print(\"end\")\n",
    "print(\"Final masse (kg) : \", var_stk_masse_kg)\n",
    "print(\"Final temp (K) : \", var_stk_temp_kelv)\n",
    "print(\"Final pressure (Bar) : \", var_stk_p_bar)\n",
    "\n"
   ]
  },
  {
   "cell_type": "markdown",
   "metadata": {},
   "source": [
    "# Simu disponibilité"
   ]
  },
  {
   "cell_type": "code",
   "execution_count": 15,
   "metadata": {},
   "outputs": [
    {
     "name": "stdout",
     "output_type": "stream",
     "text": [
      "Jour indisponible sur 10000 ans             :  35528\n",
      "Moyenne jour indisponible sur 1 an       :  3.5528\n",
      "Disponibilité de 2 stations parallelle   :  99.0266301369863\n"
     ]
    }
   ],
   "source": [
    "# 2 ELY parallelle 96% dispo chacun\n",
    "import random\n",
    "\n",
    "def sim_a_year() :\n",
    "    days = 0\n",
    "    panne_counter = 0\n",
    "\n",
    "    while days < 365 :\n",
    "        days = days + 1\n",
    "\n",
    "        ely_1_status = random.randint(0,100)\n",
    "        ely_2_status = random.randint(0,100)\n",
    "\n",
    "        if ely_1_status > 96 and ely_2_status > 96 :\n",
    "            panne_counter = panne_counter + 1\n",
    "    return panne_counter\n",
    "\n",
    "\n",
    "years = 0\n",
    "total_pannes = 0\n",
    "echantillon = 10000\n",
    "\n",
    "while years < echantillon :\n",
    "    years = years + 1\n",
    "    total_pannes = total_pannes + sim_a_year()\n",
    "\n",
    "print(\"Jour indisponible sur {} ans             : \".format(echantillon),total_pannes)\n",
    "print(\"Moyenne jour indisponible sur 1 an       : \",total_pannes/echantillon)\n",
    "print(\"Disponibilité de 2 stations parallelle   : \",(1-total_pannes / (365*echantillon))*100)"
   ]
  },
  {
   "cell_type": "code",
   "execution_count": 14,
   "metadata": {},
   "outputs": [
    {
     "name": "stdout",
     "output_type": "stream",
     "text": [
      "Jour indisponible sur 10000 ans             :  16814\n",
      "Moyenne jour indisponible sur 1 an       :  1.6814\n",
      "Disponibilité de 2 stations parallelle   :  99.53934246575342\n"
     ]
    }
   ],
   "source": [
    "# 3 ELY parallelle 96% dispo chacun mais besoin de 2 mini\n",
    "import random\n",
    "\n",
    "def sim_a_year() :\n",
    "    days = 0\n",
    "    panne_counter = 0\n",
    "\n",
    "    while days < 365 :\n",
    "        days = days + 1\n",
    "\n",
    "        ely_1_status = random.randint(0,100)\n",
    "        ely_2_status = random.randint(0,100)\n",
    "        ely_3_status = random.randint(0,100)\n",
    "\n",
    "        if ely_1_status > 96 and ely_2_status > 96 or ely_1_status > 96 and ely_3_status > 96 or ely_2_status > 96 and ely_3_status > 96 :\n",
    "            panne_counter = panne_counter + 1\n",
    "    return panne_counter\n",
    "\n",
    "\n",
    "years = 0\n",
    "total_pannes = 0\n",
    "echantillon = 10000\n",
    "\n",
    "while years < echantillon :\n",
    "    years = years + 1\n",
    "    total_pannes = total_pannes + sim_a_year()\n",
    "\n",
    "print(\"Jour indisponible sur {} ans             : \".format(echantillon),total_pannes)\n",
    "print(\"Moyenne jour indisponible sur 1 an       : \",total_pannes/echantillon)\n",
    "print(\"Disponibilité de 2 stations parallelle   : \",(1-total_pannes / (365*echantillon))*100)"
   ]
  }
 ],
 "metadata": {
  "kernelspec": {
   "display_name": "Python 3.9.12 ('base')",
   "language": "python",
   "name": "python3"
  },
  "language_info": {
   "codemirror_mode": {
    "name": "ipython",
    "version": 3
   },
   "file_extension": ".py",
   "mimetype": "text/x-python",
   "name": "python",
   "nbconvert_exporter": "python",
   "pygments_lexer": "ipython3",
   "version": "3.9.12"
  },
  "orig_nbformat": 4,
  "vscode": {
   "interpreter": {
    "hash": "f4719bffe09b609910c4a8d47eed3a4a57bf2fed88444b871993905593b908eb"
   }
  }
 },
 "nbformat": 4,
 "nbformat_minor": 2
}
